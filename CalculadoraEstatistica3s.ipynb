{
  "nbformat": 4,
  "nbformat_minor": 0,
  "metadata": {
    "colab": {
      "name": "Untitled2.ipynb",
      "provenance": [],
      "collapsed_sections": []
    },
    "kernelspec": {
      "name": "python3",
      "display_name": "Python 3"
    },
    "language_info": {
      "name": "python"
    }
  },
  "cells": [
    {
      "cell_type": "markdown",
      "source": [
        "# Calculadora Estatística v.3.6\n",
        "\n",
        "Programa desenvolvido para utilização na analíse de dados dentro do Laboratório de Física I e para introdução a linguagem de programação, podendo ter outras utilidades.<br>\n",
        "**Autor**: Carlos Augusto  Rodrigues de Oliveira <br>\n",
        "**Orientadoras:** Mariana Pojar & Eliane de Fátima Chinaglia\n",
        "## Contato  \n",
        "Caso queira enviar sugestões ou reportar algum problema entre em contato em: <br>\n",
        "* Email: uniecaoliveira@fei.edu.br\n",
        "* GitHub: [carlos-metalzin](https://github.com/carlos-metalzin)\n",
        "* Redes sociais:  \n",
        "  * __[Twitter](https://twitter.com/gustc_carlos)__\n",
        "  * __[Instagram](https://www.instagram.com/gustc_carlos/)__\n",
        "\n",
        "## Informações \n",
        "Algumas instruções para utilizar o programa corretamente:<br>\n",
        "    1. Para utilizar as linhas de codigo selecione-a e utilize o comando \\\"run\\\" no canto superior da sua pagina ou pressionando shift+enter <br>\n",
        "    2. Lembre-se sempre de deixar o arquivo de dados junto com o arquivo do programa (na mesma pasta)<br>\n",
        "    3. Para mais instruções do Google Colab acesse: __[Tutorial](https://github.com/carlos-metalzin/Calculadora-Estatistica_4.3)__"
      ],
      "metadata": {
        "id": "U0MPcpw4fSKi"
      }
    },
    {
      "cell_type": "markdown",
      "source": [
        "# Importando as Bibliotecas utilizadas "
      ],
      "metadata": {
        "id": "LjQJCT9ng1y1"
      }
    },
    {
      "cell_type": "code",
      "source": [
        "import numpy as np\n",
        "import statistics as st\n",
        "import pandas as pd"
      ],
      "metadata": {
        "id": "isLa_E58fZ3C"
      },
      "execution_count": 1,
      "outputs": []
    },
    {
      "cell_type": "markdown",
      "source": [
        "# Lendo arquivo de dados\n",
        "Caso queira analisar um arquivo externo utilize esta linha de código"
      ],
      "metadata": {
        "id": "p9hztPPbfewE"
      }
    },
    {
      "cell_type": "code",
      "source": [
        "# Insira o endereço do seu arquivo aqui, lembre-se de adicionar a extensão. Para mais informações acesse o tutorial\n",
        "arquivo_de_dados = pd.read_csv('Apague essa mensagem e insira seu arquivo de dados.csv', sep=';')\n",
        "dados = []\n",
        "for y in arquivo_de_dados:\n",
        "        try:\n",
        "            y = str(y).replace(',', '.')\n",
        "            float(y)\n",
        "        except:\n",
        "            print()\n",
        "        else:\n",
        "            dados.append(float(y))\n",
        "        for x in arquivo_de_dados[y]:\n",
        "            try:\n",
        "                x = str(x).replace(',', '.')\n",
        "                float(x)\n",
        "            except:\n",
        "                print('O dado a seguir estava no seu arquivo de dados e foi ignorado por não ser um valor: ')\n",
        "                print(x, ' = ', type(x))\n",
        "                print('-' * 30)\n",
        "            else:\n",
        "                dados.append(float(x))\n",
        "dados\n"
      ],
      "metadata": {
        "id": "XPeEEUTnny11"
      },
      "execution_count": null,
      "outputs": []
    },
    {
      "cell_type": "markdown",
      "source": [
        "# Inserir Dados Manualmente\n",
        "\n",
        "Caso prefira inserir seus valores manualmente utilize esta linha de código"
      ],
      "metadata": {
        "id": "pacDkhgGoqML"
      }
    },
    {
      "cell_type": "code",
      "source": [
        "dados = []\n",
        "contador = 0\n",
        "qnt = int(input('Quantos valores serão informados? '))\n",
        "while contador != qnt:\n",
        "      contador += 1\n",
        "      dados.append(float(input(f'{contador}° valor: ')))\n",
        "dados = np.array(dados)\n",
        "dados"
      ],
      "metadata": {
        "colab": {
          "base_uri": "https://localhost:8080/"
        },
        "id": "YVxGuaqco0Oy",
        "outputId": "a450da05-1e7f-4408-8423-f09e98a9ed02"
      },
      "execution_count": 3,
      "outputs": [
        {
          "name": "stdout",
          "output_type": "stream",
          "text": [
            "Quantos valores serão informados? 5\n",
            "1° valor: 1\n",
            "2° valor: 2\n",
            "3° valor: 3\n",
            "4° valor: 4\n",
            "5° valor: 5\n"
          ]
        },
        {
          "output_type": "execute_result",
          "data": {
            "text/plain": [
              "array([1., 2., 3., 4., 5.])"
            ]
          },
          "metadata": {},
          "execution_count": 3
        }
      ]
    },
    {
      "cell_type": "markdown",
      "source": [
        "## Analisando seus dados\n",
        "* __Média__\n",
        "$$ \\overline{x} = \\frac{\\sum_{i=1}^{n}x_{i}}{n} \\\\ $$\n",
        "\n",
        "* __Désvio Padrão__ \n",
        "$$ \\sigma = \\sqrt{\\frac{\\Sigma (x_{i}-\\overline{x})^2}{n-1}}  $$\n",
        "\n",
        "* __Incerteza estatistica ou Desvio padrão da média__\n",
        "$$ \\sigma_{e} = \\frac{\\sigma}{\\sqrt{n}} $$\n",
        "\n",
        "* __Incerteza Residual__\n",
        "$$ \\sigma_{r} = \\frac{resolução}{2} $$\n",
        "* __Incerteza Padrão ou Desvio final da média__\n",
        "$$ \\sigma_{p} = \\sqrt{\\sigma_{e}^2 + \\sigma_{r}^2} $$\n",
        "\n"
      ],
      "metadata": {
        "id": "UkDu9z-MpSrv"
      }
    },
    {
      "cell_type": "code",
      "source": [
        "r = float(input('Valor da resolução do instrumento: '))\n",
        "IE = st.stdev(dados) / (len(dados) ** (1 / 2))\n",
        "IP = (IE ** 2 + (r/2) ** 2) ** (1 / 2)\n",
        "answer = {'N° de itens': len(dados), 'Maior valor': max(dados), 'Menor valor': min(dados),\n",
        "              'Média': dados.mean(), 'Desvio padrão': st.stdev(dados),\n",
        "              'Incerteza estatística': IE, 'Incerteza Padrão': IP}\n",
        "\n",
        "\n",
        "for x,y in answer.items(): \n",
        "  print(f'{x} = {round(y,10)}') # altere o número de casas decimais aqui, substituindo o número depois do [y]\n"
      ],
      "metadata": {
        "colab": {
          "base_uri": "https://localhost:8080/"
        },
        "id": "qK6pT9gKpIBS",
        "outputId": "cb310200-1c13-4ad1-bc14-bf06cd4e3c34"
      },
      "execution_count": 13,
      "outputs": [
        {
          "output_type": "stream",
          "name": "stdout",
          "text": [
            "Valor da resolução do instrumento: 0\n",
            "N° de itens = 5\n",
            "Maior valor = 5.0\n",
            "Menor valor = 1.0\n",
            "Média = 3.0\n",
            "Desvio padrão = 1.5811388301\n",
            "Incerteza estatística = 0.7071067812\n",
            "Incerteza Padrão = 0.7071067812\n"
          ]
        }
      ]
    },
    {
      "cell_type": "code",
      "source": [
        ""
      ],
      "metadata": {
        "id": "SDFwtN2Wt3PV"
      },
      "execution_count": null,
      "outputs": []
    }
  ]
}